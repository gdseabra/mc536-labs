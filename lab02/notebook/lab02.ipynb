{
 "cells": [
  {
   "cell_type": "code",
   "execution_count": 2,
   "source": [
    "import io\n",
    "import requests\n",
    "import json"
   ],
   "outputs": [],
   "metadata": {}
  },
  {
   "cell_type": "markdown",
   "source": [
    "## Tarefa 1\n",
    "\n",
    "## Carregue o nó de Tenda dos Milagres (da versão em inglês Tent of Miracles) em Python e mostre o conteúdo JSON."
   ],
   "metadata": {}
  },
  {
   "cell_type": "code",
   "execution_count": 3,
   "source": [
    "url_template = \"http://dbpedia.org/data/{concept}.{format}\"\n",
    "\n",
    "concept = \"Tent of Miracles (novel)\"\n",
    "format = \"jsod\"\n",
    "\n",
    "concept = concept.replace(\" \", \"_\")\n",
    "\n",
    "url = url_template.replace(\"{concept}\", concept)\\\n",
    "                  .replace(\"{format}\", format)\n",
    "\n",
    "data = requests.get(url)\n",
    "js = data.json()\n",
    "print(json.dumps(js, indent=3))"
   ],
   "outputs": [
    {
     "output_type": "stream",
     "name": "stdout",
     "text": [
      "{\n",
      "   \"d\": {\n",
      "      \"results\": [\n",
      "         {\n",
      "            \"__metadata\": {\n",
      "               \"uri\": \"http://dbpedia.org/resource/Tent_of_Miracles_(novel)\"\n",
      "            },\n",
      "            \"http://www.w3.org/2000/01/rdf-schema#label\": \"Tent of Miracles (novel)\",\n",
      "            \"http://dbpedia.org/ontology/wikiPageWikiLink\": {\n",
      "               \"__deferred\": {\n",
      "                  \"uri\": \"http://dbpedia.org/resource/French_New_Wave\"\n",
      "               }\n",
      "            },\n",
      "            \"http://purl.org/dc/terms/subject\": {\n",
      "               \"__deferred\": {\n",
      "                  \"uri\": \"http://dbpedia.org/resource/Category:Modernist_novels\"\n",
      "               }\n",
      "            },\n",
      "            \"http://www.w3.org/1999/02/22-rdf-syntax-ns#type\": {\n",
      "               \"__deferred\": {\n",
      "                  \"uri\": \"http://dbpedia.org/ontology/WrittenWork\"\n",
      "               }\n",
      "            },\n",
      "            \"http://dbpedia.org/property/wikiPageUsesTemplate\": {\n",
      "               \"__deferred\": {\n",
      "                  \"uri\": \"http://dbpedia.org/resource/Template:According_to_whom\"\n",
      "               }\n",
      "            },\n",
      "            \"http://www.w3.org/2000/01/rdf-schema#comment\": \"Tent of Miracles (Portuguese: Tenda dos Milagres) is a Brazilian Modernist novel. It was written by Jorge Amado in 1967 and published the following year. It was later adapted to a 1977 Cinema Novo (Nouvelle Vague) film by director/screenplay writer Nelson Pereira dos Santos.\",\n",
      "            \"http://dbpedia.org/ontology/abstract\": \"La bottega dei miracoli \\u00e8 un romanzo di Jorge Amado pubblicato nel 1960. Come altri romanzi dell&#39;autore (ad esempio Tieta d&#39;Agreste e Teresa Batista) \\u00e8 un testo composito, con un intreccio zigzagante fra analessi e prolessi, con mutamenti di voci narranti ed inserti di materiale eterogeneo.\\u00c8 possibile che l&#39;evento scatenante del racconto (la visita del famoso scienziato) sia stato ispirato dall&#39;esperienza vissuta; in quello stesso 1960, infatti, Jean Paul Sartre e Simone De Beauvoir visitarono il Brasile su invito dello stesso Amado: la visita divenne un evento mediatico, celebrato in numerose manifestazioni istituzionali.\",\n",
      "            \"http://dbpedia.org/property/pubDate\": \"1969\",\n",
      "            \"http://dbpedia.org/property/country\": {\n",
      "               \"__deferred\": {\n",
      "                  \"uri\": \"http://dbpedia.org/resource/Brazil\"\n",
      "               }\n",
      "            },\n",
      "            \"http://www.w3.org/2002/07/owl#sameAs\": {\n",
      "               \"__deferred\": {\n",
      "                  \"uri\": \"http://rdf.freebase.com/ns/m.02xrs4\"\n",
      "               }\n",
      "            },\n",
      "            \"http://dbpedia.org/ontology/wikiPageRevisionID\": \"974212123\",\n",
      "            \"http://dbpedia.org/property/author\": {\n",
      "               \"__deferred\": {\n",
      "                  \"uri\": \"http://dbpedia.org/resource/Jorge_Amado\"\n",
      "               }\n",
      "            },\n",
      "            \"http://dbpedia.org/ontology/author\": {\n",
      "               \"__deferred\": {\n",
      "                  \"uri\": \"http://dbpedia.org/resource/Jorge_Amado\"\n",
      "               }\n",
      "            },\n",
      "            \"http://xmlns.com/foaf/0.1/name\": \"Tenda dos Milagres\",\n",
      "            \"http://dbpedia.org/property/englishPubDate\": \"1971\",\n",
      "            \"http://dbpedia.org/ontology/country\": {\n",
      "               \"__deferred\": {\n",
      "                  \"uri\": \"http://dbpedia.org/resource/Brazil\"\n",
      "               }\n",
      "            },\n",
      "            \"http://dbpedia.org/property/name\": \"Tent of Miracles\",\n",
      "            \"http://purl.org/linguistics/gold/hypernym\": {\n",
      "               \"__deferred\": {\n",
      "                  \"uri\": \"http://dbpedia.org/resource/Novel\"\n",
      "               }\n",
      "            },\n",
      "            \"http://dbpedia.org/property/titleOrig\": \"Tenda dos Milagres\",\n",
      "            \"http://dbpedia.org/ontology/publisher\": {\n",
      "               \"__deferred\": {\n",
      "                  \"uri\": \"http://dbpedia.org/resource/Brazil\"\n",
      "               }\n",
      "            },\n",
      "            \"http://dbpedia.org/ontology/language\": {\n",
      "               \"__deferred\": {\n",
      "                  \"uri\": \"http://dbpedia.org/resource/Portuguese_language\"\n",
      "               }\n",
      "            },\n",
      "            \"http://www.w3.org/ns/prov#wasDerivedFrom\": {\n",
      "               \"__deferred\": {\n",
      "                  \"uri\": \"http://en.wikipedia.org/wiki/Tent_of_Miracles_(novel)?oldid=974212123&ns=0\"\n",
      "               }\n",
      "            },\n",
      "            \"http://dbpedia.org/ontology/wikiPageLength\": \"5253\",\n",
      "            \"http://purl.org/dc/elements/1.1/publisher\": \"Martins, Sao Paulo, Brazil\",\n",
      "            \"http://dbpedia.org/property/language\": {\n",
      "               \"__deferred\": {\n",
      "                  \"uri\": \"http://dbpedia.org/resource/Portuguese_language\"\n",
      "               }\n",
      "            },\n",
      "            \"http://dbpedia.org/ontology/wikiPageID\": \"623351\",\n",
      "            \"http://dbpedia.org/property/publisher\": \"Martins, Sao Paulo, Brazil\",\n",
      "            \"http://dbpedia.org/property/caption\": \"First edition\",\n",
      "            \"http://xmlns.com/foaf/0.1/isPrimaryTopicOf\": {\n",
      "               \"__deferred\": {\n",
      "                  \"uri\": \"http://en.wikipedia.org/wiki/Tent_of_Miracles_(novel)\"\n",
      "               }\n",
      "            }\n",
      "         }\n",
      "      ],\n",
      "      \"__count\": \"1\"\n",
      "   }\n",
      "}\n"
     ]
    }
   ],
   "metadata": {}
  },
  {
   "cell_type": "code",
   "execution_count": 5,
   "source": [
    "autor = js[\"d\"][\"results\"][0][\"http://dbpedia.org/ontology/author\"][\"__deferred\"][\"uri\"]\n",
    "print(\"Autor de Tenda dos Milagres: \" + autor)"
   ],
   "outputs": [
    {
     "output_type": "stream",
     "name": "stdout",
     "text": [
      "Autor de Tenda dos Milagres: http://dbpedia.org/resource/Jorge_Amado\n"
     ]
    }
   ],
   "metadata": {}
  }
 ],
 "metadata": {
  "kernelspec": {
   "name": "python3",
   "display_name": "Python 3.9.5 64-bit ('base': conda)"
  },
  "language_info": {
   "codemirror_mode": {
    "name": "ipython",
    "version": 3
   },
   "file_extension": ".py",
   "mimetype": "text/x-python",
   "name": "python",
   "nbconvert_exporter": "python",
   "pygments_lexer": "ipython3",
   "version": "3.9.5"
  },
  "interpreter": {
   "hash": "51d1770051696168bdec6a6d9ec75dd50a8de85c9af6ea23c24287210464fd69"
  }
 },
 "nbformat": 4,
 "nbformat_minor": 5
}